{
 "cells": [
  {
   "cell_type": "code",
   "execution_count": 44,
   "metadata": {},
   "outputs": [],
   "source": [
    "def encrypt_caesar(plaintext: str, shift: int = 3) -> str:\n",
    "    ciphertext = \"\"\n",
    "    for i in range(len(plaintext)):\n",
    "        number = ord(plaintext[i])\n",
    "        if plaintext[i].islower() and number < 120:\n",
    "            ciphertext = ciphertext + chr(number + shift)\n",
    "        elif plaintext[i].islower() and number >= 120:\n",
    "            ciphertext = ciphertext + chr(number - shift - 20)\n",
    "        elif plaintext[i].isupper() and number < 89:\n",
    "            ciphertext = ciphertext + chr(number + shift)\n",
    "        elif plaintext[i].isupper() and number >= 89: \n",
    "            ciphertext = ciphertext + chr(number - shift - 20)\n",
    "        else:\n",
    "            ciphertext = ciphertext + plaintext[i]\n",
    "    return ciphertext\n",
    "\n",
    "\n",
    "def decrypt_caesar(ciphertext: str, shift: int = 3) -> str:\n",
    "    plaintext = \"\"\n",
    "    for i in range(len(ciphertext)):\n",
    "        number = ord(ciphertext[i])\n",
    "        if ciphertext[i].islower() and number > 99:\n",
    "            plaintext = plaintext + chr(number - shift)\n",
    "        elif ciphertext[i].islower() and number <= 99:\n",
    "            plaintext = plaintext + chr(number + shift + 20)\n",
    "        elif ciphertext[i].isupper() and number > 67:\n",
    "            plaintext = plaintext + chr(number - shift)\n",
    "        elif ciphertext[i].isupper() and number <= 67: \n",
    "            plaintext = plaintext + chr(number + shift + 20)\n",
    "        else:\n",
    "            plaintext = plaintext + ciphertext[i]\n",
    "    return plaintext"
   ]
  },
  {
   "cell_type": "code",
   "execution_count": null,
   "metadata": {},
   "outputs": [],
   "source": []
  },
  {
   "cell_type": "code",
   "execution_count": null,
   "metadata": {},
   "outputs": [],
   "source": []
  }
 ],
 "metadata": {
  "kernelspec": {
   "display_name": "Python 3",
   "language": "python",
   "name": "python3"
  },
  "language_info": {
   "codemirror_mode": {
    "name": "ipython",
    "version": 3
   },
   "file_extension": ".py",
   "mimetype": "text/x-python",
   "name": "python",
   "nbconvert_exporter": "python",
   "pygments_lexer": "ipython3",
   "version": "3.8.5"
  }
 },
 "nbformat": 4,
 "nbformat_minor": 4
}
