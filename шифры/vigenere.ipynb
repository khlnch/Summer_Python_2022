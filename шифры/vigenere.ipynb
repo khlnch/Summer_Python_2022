{
 "cells": [
  {
   "cell_type": "code",
   "execution_count": 34,
   "metadata": {},
   "outputs": [],
   "source": [
    "def encrypt_vigenere(plaintext: str, keyword: str) -> str:\n",
    "    ciphertext = \"\"\n",
    "    i = 0\n",
    "    while len(plaintext) != len(keyword):\n",
    "        keyword = keyword + keyword[i]\n",
    "        i = i + 1\n",
    "    for i in range(len(plaintext)):\n",
    "        if plaintext.isupper():\n",
    "            shift = ord(keyword[i]) - 65\n",
    "            if plaintext[i].isalpha() == False:\n",
    "                ciphertext = ciphertext + plaintext[i]\n",
    "            elif ord(plaintext[i]) + shift <= 90:\n",
    "                ciphertext = ciphertext + chr(ord(plaintext[i]) + shift)\n",
    "            else:\n",
    "                ciphertext = ciphertext + chr(ord(plaintext[i]) + shift - 26)\n",
    "        else:\n",
    "            shift = ord(keyword[i]) - 97\n",
    "            if plaintext[i].isalpha() == False:\n",
    "                ciphertext = ciphertext + plaintext[i]\n",
    "            elif ord(plaintext[i]) + shift <= 122:\n",
    "                ciphertext = ciphertext + chr(ord(plaintext[i]) + shift)\n",
    "            else:\n",
    "                ciphertext = ciphertext + chr(ord(plaintext[i]) + shift - 26)\n",
    "    return ciphertext\n",
    "\n",
    "\n",
    "def decrypt_vigenere(ciphertext: str, keyword: str) -> str:\n",
    "    plaintext = \"\"\n",
    "    i = 0\n",
    "    while len(ciphertext) != len(keyword):\n",
    "        keyword = keyword + keyword[i]\n",
    "        i = i + 1\n",
    "    for i in range(len(ciphertext)):\n",
    "        if ciphertext.isupper():\n",
    "            shift = ord(keyword[i]) - 65\n",
    "            if ciphertext[i].isalpha() == False:\n",
    "                plaintext = plaintext + ciphertext[i]\n",
    "            elif ord(ciphertext[i]) - shift >= 65:\n",
    "                plaintext = plaintext + chr(ord(ciphertext[i]) - shift)\n",
    "            else:\n",
    "                plaintext = plaintext + chr(ord(ciphertext[i]) - shift + 26)\n",
    "        else:\n",
    "            shift = ord(keyword[i]) - 97\n",
    "            if ciphertext[i].isalpha() == False:\n",
    "                plaintext = plaintext + ciphertext[i]\n",
    "            elif ord(ciphertext[i]) - shift >= 97:\n",
    "                plaintext = plaintext + chr(ord(ciphertext[i]) - shift)\n",
    "            else:\n",
    "                plaintext = plaintext + chr(ord(ciphertext[i]) - shift + 26)\n",
    "    return plaintext"
   ]
  },
  {
   "cell_type": "code",
   "execution_count": null,
   "metadata": {},
   "outputs": [],
   "source": []
  }
 ],
 "metadata": {
  "kernelspec": {
   "display_name": "Python 3",
   "language": "python",
   "name": "python3"
  },
  "language_info": {
   "codemirror_mode": {
    "name": "ipython",
    "version": 3
   },
   "file_extension": ".py",
   "mimetype": "text/x-python",
   "name": "python",
   "nbconvert_exporter": "python",
   "pygments_lexer": "ipython3",
   "version": "3.8.5"
  }
 },
 "nbformat": 4,
 "nbformat_minor": 4
}
