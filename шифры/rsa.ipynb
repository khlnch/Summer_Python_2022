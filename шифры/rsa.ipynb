{
 "cells": [
  {
   "cell_type": "code",
   "execution_count": 51,
   "metadata": {},
   "outputs": [],
   "source": [
    "import typing as tp\n",
    "import random"
   ]
  },
  {
   "cell_type": "code",
   "execution_count": 52,
   "metadata": {},
   "outputs": [],
   "source": [
    "def is_prime(n: int) -> bool:\n",
    "    if n >= 10:\n",
    "        for i in range(2, 10):\n",
    "            if n % i == 0:\n",
    "                return False\n",
    "        return True\n",
    "    else:\n",
    "        for i in range(2, n):\n",
    "            if n % i == 0:\n",
    "                return False\n",
    "        return True"
   ]
  },
  {
   "cell_type": "code",
   "execution_count": 59,
   "metadata": {},
   "outputs": [],
   "source": [
    "def generate_keypair(p: int, q: int) -> tp.Tuple[tp.Tuple[int, int], tp.Tuple[int, int]]:\n",
    "    if not (is_prime(p) and is_prime(q)):\n",
    "        raise ValueError('Both numbers must be prime.')\n",
    "    elif p == q:\n",
    "        raise ValueError('p and q cannot be equal')\n",
    "\n",
    "    n = p * q\n",
    "\n",
    "    phi = (p-1) * (q-1)\n",
    "\n",
    "    # Choose an integer e such that e and phi(n) are coprime\n",
    "    e = random.randrange(1, phi)\n",
    "\n",
    "    # Use Euclid's Algorithm to verify that e and phi(n) are comprime\n",
    "    g = gcd(e, phi)\n",
    "    while g != 1:\n",
    "        e = random.randrange(1, phi)\n",
    "        g = gcd(e, phi)\n",
    "\n",
    "    # Use Extended Euclid's Algorithm to generate the private key\n",
    "    d = multiplicative_inverse(e, phi)\n",
    "    # Return public and private keypair\n",
    "    # Public key is (e, n) and private key is (d, n)\n",
    "    return ((e, n), (d, n))"
   ]
  },
  {
   "cell_type": "code",
   "execution_count": 60,
   "metadata": {},
   "outputs": [],
   "source": [
    "def gcd(a: int, b: int) -> int:\n",
    "    \"\"\"\n",
    "    >>> gcd(12, 15)\n",
    "    3\n",
    "    >>> gcd(3, 7)\n",
    "    1\n",
    "    \"\"\"\n",
    "    a_divisors = {1}\n",
    "    b_divisors = {1}\n",
    "    for i in range(1, a + 1):\n",
    "        if a % i == 0:\n",
    "            a_divisors.add(i)\n",
    "    for i in range(1, b + 1):\n",
    "        if b % i == 0:\n",
    "            b_divisors.add(i)\n",
    "    common_divisers = a_divisors & b_divisors\n",
    "    result = 1\n",
    "    for d in common_divisers:\n",
    "        result *= d\n",
    "    return result"
   ]
  },
  {
   "cell_type": "code",
   "execution_count": 61,
   "metadata": {},
   "outputs": [],
   "source": [
    "def multiplicative_inverse(e: int, phi: int) -> int:\n",
    "    \"\"\"\n",
    "    >>> multiplicative_inverse(7, 40)\n",
    "    23\n",
    "    \"\"\"\n",
    "    res = []\n",
    "    x = [0, 1]\n",
    "    y = [1]\n",
    "    while phi % e != 0:\n",
    "        res.append(phi // e)\n",
    "        e, phi = phi % e, e\n",
    "    for i in range(1, len(res) + 1):\n",
    "        y.append(x[i-1] - y[i-1] * res[-i])\n",
    "        x.append(y[-1])\n",
    "    return y[-1]"
   ]
  },
  {
   "cell_type": "code",
   "execution_count": null,
   "metadata": {},
   "outputs": [],
   "source": []
  }
 ],
 "metadata": {
  "kernelspec": {
   "display_name": "Python 3",
   "language": "python",
   "name": "python3"
  },
  "language_info": {
   "codemirror_mode": {
    "name": "ipython",
    "version": 3
   },
   "file_extension": ".py",
   "mimetype": "text/x-python",
   "name": "python",
   "nbconvert_exporter": "python",
   "pygments_lexer": "ipython3",
   "version": "3.8.5"
  }
 },
 "nbformat": 4,
 "nbformat_minor": 4
}
